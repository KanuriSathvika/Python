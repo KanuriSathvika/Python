{
 "cells": [
  {
   "cell_type": "markdown",
   "id": "bbc8200d",
   "metadata": {},
   "source": [
    "##  Pandas (Series)\n"
   ]
  },
  {
   "cell_type": "code",
   "execution_count": 1,
   "id": "5fb6dc22",
   "metadata": {
    "scrolled": true
   },
   "outputs": [
    {
     "name": "stdout",
     "output_type": "stream",
     "text": [
      "0    12\n",
      "1    34\n",
      "2    56\n",
      "3    78\n",
      "dtype: int64\n"
     ]
    }
   ],
   "source": [
    "import pandas as pd\n",
    "num=[12,34,56,78]\n",
    "ser=pd.Series(num)\n",
    "print(ser)"
   ]
  },
  {
   "cell_type": "code",
   "execution_count": 2,
   "id": "cd630e75",
   "metadata": {},
   "outputs": [
    {
     "data": {
      "text/plain": [
       "0    34\n",
       "1    78\n",
       "2    12\n",
       "3    89\n",
       "dtype: int64"
      ]
     },
     "execution_count": 2,
     "metadata": {},
     "output_type": "execute_result"
    }
   ],
   "source": [
    "pd.Series([34,78,12,89])"
   ]
  },
  {
   "cell_type": "code",
   "execution_count": 3,
   "id": "d1c0c010",
   "metadata": {},
   "outputs": [
    {
     "name": "stdout",
     "output_type": "stream",
     "text": [
      "34\n"
     ]
    }
   ],
   "source": [
    "# Labels(Index)\n",
    "print(ser[1])"
   ]
  },
  {
   "cell_type": "code",
   "execution_count": 4,
   "id": "6ee53fb1",
   "metadata": {},
   "outputs": [
    {
     "data": {
      "text/plain": [
       "a    12\n",
       "b    34\n",
       "c    56\n",
       "d    78\n",
       "dtype: int64"
      ]
     },
     "execution_count": 4,
     "metadata": {},
     "output_type": "execute_result"
    }
   ],
   "source": [
    "# Creating Labels\n",
    "# index argument\n",
    "pd.Series(num,index=['a','b','c','d'])"
   ]
  },
  {
   "cell_type": "code",
   "execution_count": 5,
   "id": "43c17eb4",
   "metadata": {},
   "outputs": [
    {
     "name": "stdout",
     "output_type": "stream",
     "text": [
      "age        18\n",
      "date       15\n",
      "year     2003\n",
      "month      10\n",
      "dtype: int64\n"
     ]
    }
   ],
   "source": [
    "# By using Dictionary\n",
    "about= {'age':18, 'date': 15,'year':2003,'month':10}\n",
    "dic_ser=pd.Series(about)\n",
    "print(dic_ser)"
   ]
  },
  {
   "cell_type": "code",
   "execution_count": 6,
   "id": "75797aef",
   "metadata": {},
   "outputs": [
    {
     "data": {
      "text/plain": [
       "age      18\n",
       "month    10\n",
       "dtype: int64"
      ]
     },
     "execution_count": 6,
     "metadata": {},
     "output_type": "execute_result"
    }
   ],
   "source": [
    "# Accessing the particular indices\n",
    "pd.Series(about,index=['age','month'])"
   ]
  },
  {
   "cell_type": "code",
   "execution_count": 7,
   "id": "19101ffc",
   "metadata": {},
   "outputs": [
    {
     "name": "stdout",
     "output_type": "stream",
     "text": [
      "age        18\n",
      "date       15\n",
      "year     2003\n",
      "month      10\n",
      "Name: info, dtype: int64\n"
     ]
    }
   ],
   "source": [
    "dic_ser=pd.Series(about,name=\"info\")\n",
    "print(dic_ser)"
   ]
  },
  {
   "cell_type": "code",
   "execution_count": 8,
   "id": "baea3576",
   "metadata": {},
   "outputs": [
    {
     "name": "stdout",
     "output_type": "stream",
     "text": [
      "int64\n"
     ]
    }
   ],
   "source": [
    "print(dic_ser.dtype)"
   ]
  }
 ],
 "metadata": {
  "kernelspec": {
   "display_name": "Python 3",
   "language": "python",
   "name": "python3"
  },
  "language_info": {
   "codemirror_mode": {
    "name": "ipython",
    "version": 3
   },
   "file_extension": ".py",
   "mimetype": "text/x-python",
   "name": "python",
   "nbconvert_exporter": "python",
   "pygments_lexer": "ipython3",
   "version": "3.8.8"
  }
 },
 "nbformat": 4,
 "nbformat_minor": 5
}
